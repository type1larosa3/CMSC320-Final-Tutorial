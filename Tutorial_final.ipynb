{
 "cells": [
  {
   "cell_type": "code",
   "execution_count": 1,
   "id": "cb867642-6fb0-4d46-a50e-dcbb27175c46",
   "metadata": {},
   "outputs": [
    {
     "data": {
      "text/html": [
       "<div>\n",
       "<style scoped>\n",
       "    .dataframe tbody tr th:only-of-type {\n",
       "        vertical-align: middle;\n",
       "    }\n",
       "\n",
       "    .dataframe tbody tr th {\n",
       "        vertical-align: top;\n",
       "    }\n",
       "\n",
       "    .dataframe thead th {\n",
       "        text-align: right;\n",
       "    }\n",
       "</style>\n",
       "<table border=\"1\" class=\"dataframe\">\n",
       "  <thead>\n",
       "    <tr style=\"text-align: right;\">\n",
       "      <th></th>\n",
       "      <th>County</th>\n",
       "      <th>Tributary Basin</th>\n",
       "      <th>Major Basin</th>\n",
       "      <th>Source Sector</th>\n",
       "      <th>Total N, 1985 (lb.)</th>\n",
       "      <th>Total N, 2007 (lb.)</th>\n",
       "      <th>Total N, 2009 (lb.)</th>\n",
       "      <th>Total N, 2010 (lb.)</th>\n",
       "      <th>Total N, 2011 (lb.)</th>\n",
       "      <th>Total N, 2012 (lb.)</th>\n",
       "      <th>Total N, 2013 (lb.)</th>\n",
       "      <th>Total N, 2014 (lb.)</th>\n",
       "      <th>Total N, 2015 (lb.)</th>\n",
       "      <th>Total N, 2016 (lb)</th>\n",
       "      <th>Total N Target, 2017 (lb.)</th>\n",
       "      <th>Total N Target 2025 (lb.)</th>\n",
       "    </tr>\n",
       "  </thead>\n",
       "  <tbody>\n",
       "    <tr>\n",
       "      <th>0</th>\n",
       "      <td>ALLEGANY</td>\n",
       "      <td>Upper Potomac</td>\n",
       "      <td>Potomac River Basin</td>\n",
       "      <td>Forest</td>\n",
       "      <td>51155.919440</td>\n",
       "      <td>44291.188480</td>\n",
       "      <td>44013.497320</td>\n",
       "      <td>44071.130370</td>\n",
       "      <td>44127.954830</td>\n",
       "      <td>44065.744140</td>\n",
       "      <td>43439.700190</td>\n",
       "      <td>42644.769650</td>\n",
       "      <td>42279.000080</td>\n",
       "      <td>43150.365480</td>\n",
       "      <td>44567.218760</td>\n",
       "      <td>44936.366390</td>\n",
       "    </tr>\n",
       "    <tr>\n",
       "      <th>1</th>\n",
       "      <td>ALLEGANY</td>\n",
       "      <td>Upper Potomac</td>\n",
       "      <td>Potomac River Basin</td>\n",
       "      <td>Non-Tidal Atm</td>\n",
       "      <td>23.744801</td>\n",
       "      <td>11.600470</td>\n",
       "      <td>11.600470</td>\n",
       "      <td>11.600470</td>\n",
       "      <td>11.600470</td>\n",
       "      <td>11.600470</td>\n",
       "      <td>11.600470</td>\n",
       "      <td>11.600470</td>\n",
       "      <td>11.600470</td>\n",
       "      <td>11.600470</td>\n",
       "      <td>11.600469</td>\n",
       "      <td>11.600469</td>\n",
       "    </tr>\n",
       "    <tr>\n",
       "      <th>2</th>\n",
       "      <td>ALLEGANY</td>\n",
       "      <td>Upper Potomac</td>\n",
       "      <td>Potomac River Basin</td>\n",
       "      <td>Septic</td>\n",
       "      <td>593.984192</td>\n",
       "      <td>539.573425</td>\n",
       "      <td>534.814819</td>\n",
       "      <td>532.096191</td>\n",
       "      <td>530.284119</td>\n",
       "      <td>527.565125</td>\n",
       "      <td>687.846619</td>\n",
       "      <td>553.043579</td>\n",
       "      <td>547.539978</td>\n",
       "      <td>542.895386</td>\n",
       "      <td>466.803913</td>\n",
       "      <td>421.463309</td>\n",
       "    </tr>\n",
       "    <tr>\n",
       "      <th>3</th>\n",
       "      <td>ALLEGANY</td>\n",
       "      <td>Upper Potomac</td>\n",
       "      <td>Potomac River Basin</td>\n",
       "      <td>Stormwater</td>\n",
       "      <td>4163.487261</td>\n",
       "      <td>2510.113876</td>\n",
       "      <td>2473.745250</td>\n",
       "      <td>2463.564675</td>\n",
       "      <td>2455.817180</td>\n",
       "      <td>2456.445068</td>\n",
       "      <td>5187.855037</td>\n",
       "      <td>2569.293440</td>\n",
       "      <td>2718.073060</td>\n",
       "      <td>2686.010203</td>\n",
       "      <td>2278.617397</td>\n",
       "      <td>2148.532161</td>\n",
       "    </tr>\n",
       "    <tr>\n",
       "      <th>4</th>\n",
       "      <td>ALLEGANY</td>\n",
       "      <td>Upper Potomac</td>\n",
       "      <td>Potomac River Basin</td>\n",
       "      <td>Wastewater</td>\n",
       "      <td>153.179901</td>\n",
       "      <td>54.931515</td>\n",
       "      <td>298.770703</td>\n",
       "      <td>111.263986</td>\n",
       "      <td>113.858285</td>\n",
       "      <td>101.050881</td>\n",
       "      <td>93.216107</td>\n",
       "      <td>170.578984</td>\n",
       "      <td>0.902378</td>\n",
       "      <td>68.777241</td>\n",
       "      <td>160.712233</td>\n",
       "      <td>68.673253</td>\n",
       "    </tr>\n",
       "  </tbody>\n",
       "</table>\n",
       "</div>"
      ],
      "text/plain": [
       "     County Tributary Basin          Major Basin  Source Sector  \\\n",
       "0  ALLEGANY   Upper Potomac  Potomac River Basin         Forest   \n",
       "1  ALLEGANY   Upper Potomac  Potomac River Basin  Non-Tidal Atm   \n",
       "2  ALLEGANY   Upper Potomac  Potomac River Basin         Septic   \n",
       "3  ALLEGANY   Upper Potomac  Potomac River Basin     Stormwater   \n",
       "4  ALLEGANY   Upper Potomac  Potomac River Basin     Wastewater   \n",
       "\n",
       "   Total N, 1985 (lb.)  Total N, 2007 (lb.)  Total N, 2009 (lb.)  \\\n",
       "0         51155.919440         44291.188480         44013.497320   \n",
       "1            23.744801            11.600470            11.600470   \n",
       "2           593.984192           539.573425           534.814819   \n",
       "3          4163.487261          2510.113876          2473.745250   \n",
       "4           153.179901            54.931515           298.770703   \n",
       "\n",
       "   Total N, 2010 (lb.)  Total N, 2011 (lb.)  Total N, 2012 (lb.)  \\\n",
       "0         44071.130370         44127.954830         44065.744140   \n",
       "1            11.600470            11.600470            11.600470   \n",
       "2           532.096191           530.284119           527.565125   \n",
       "3          2463.564675          2455.817180          2456.445068   \n",
       "4           111.263986           113.858285           101.050881   \n",
       "\n",
       "   Total N, 2013 (lb.)  Total N, 2014 (lb.)  Total N, 2015 (lb.)  \\\n",
       "0         43439.700190         42644.769650         42279.000080   \n",
       "1            11.600470            11.600470            11.600470   \n",
       "2           687.846619           553.043579           547.539978   \n",
       "3          5187.855037          2569.293440          2718.073060   \n",
       "4            93.216107           170.578984             0.902378   \n",
       "\n",
       "   Total N, 2016 (lb)  Total N Target, 2017 (lb.)  Total N Target 2025 (lb.)  \n",
       "0        43150.365480                44567.218760               44936.366390  \n",
       "1           11.600470                   11.600469                  11.600469  \n",
       "2          542.895386                  466.803913                 421.463309  \n",
       "3         2686.010203                 2278.617397                2148.532161  \n",
       "4           68.777241                  160.712233                  68.673253  "
      ]
     },
     "execution_count": 1,
     "metadata": {},
     "output_type": "execute_result"
    }
   ],
   "source": [
    "import pandas as pd\n",
    "import numpy as np\n",
    "import matplotlib.pyplot as plt\n",
    "import seaborn as sns\n",
    "\n",
    "nitrogen_df = pd.read_csv('Nitrogen_loads.csv')\n",
    "nitrogen_df = nitrogen_df.drop(['Land-River Segment', 'FIPS'], axis=1)\n",
    "nitrogen_df.head()"
   ]
  },
  {
   "cell_type": "markdown",
   "id": "b246a295-3e18-4a51-b156-ee7faf07e329",
   "metadata": {},
   "source": [
    "precipitation trends in Mayrland\n",
    "\n",
    "http://marylandclimateandweather.weathertogether.net/maryland-statewide-average-precipitation-1895-2017/\n",
    "\n",
    "Guidelines for the project\n",
    "\n",
    "https://mde.maryland.gov/programs/Water/TMDL/TMDLImplementation/Pages/overview.aspx\n",
    "\n",
    "Will Maryland meet the projects set for itself by 2025?\n",
    "\n",
    "Show how much each sector has decreased over time "
   ]
  },
  {
   "cell_type": "markdown",
   "id": "6045dd71-2077-4039-80a8-37d22285a6eb",
   "metadata": {},
   "source": [
    "Here we are cleaning the data set in order to do analysis later. We removed Land-River Segment and FIP because they are not necessary for our analysis (should we explain why they are not necessary?). Then we use the pandas features melt to change the format of the data from horizontal to verticle.\n"
   ]
  },
  {
   "cell_type": "code",
   "execution_count": 2,
   "id": "5f07d432-b7e3-4dec-827a-f663744b9c76",
   "metadata": {},
   "outputs": [],
   "source": [
    "import re\n",
    "\n",
    "temp_dict = {}\n",
    "for column in nitrogen_df.columns[4:]:\n",
    "    temp_dict[column] = re.findall(\"\\d{4}\", column)[0]\n",
    "\n",
    "\n",
    "nitrogen_df = nitrogen_df.rename(columns=temp_dict)\n",
    "nitrogen_df = pd.melt(nitrogen_df,id_vars=['County','Tributary Basin','Major Basin','Source Sector'], \\\n",
    "                      var_name='Year', value_name='Total lbs.')"
   ]
  },
  {
   "cell_type": "code",
   "execution_count": null,
   "id": "950d6fc6-047b-4fd3-bfd5-1f4918499b21",
   "metadata": {},
   "outputs": [],
   "source": []
  },
  {
   "cell_type": "code",
   "execution_count": 3,
   "id": "f304b20e-377f-48c2-9088-4a07d8a333c1",
   "metadata": {},
   "outputs": [],
   "source": [
    "desired_bodies = ['Lower Western Shore','Upper Western Shore','Lower Eastern Shore','Upper Eastern Shore']\n",
    "all_bodies = nitrogen_df['Tributary Basin'].unique()\n",
    "# Sets: all bodies - desired bodies = unwanted bodies\n",
    "unwanted_bodies = list(set(all_bodies)-set(desired_bodies))\n"
   ]
  },
  {
   "cell_type": "code",
   "execution_count": 4,
   "id": "48e63e8d-420d-41a4-90ca-54d6957ca80c",
   "metadata": {},
   "outputs": [],
   "source": [
    "nitrogen_df = nitrogen_df.set_index(\"Major Basin\")\n",
    "nitrogen_df.drop(['Potomac River Basin', 'Patuxent River Basin','Susquehanna River Basin'],axis=0,inplace=True)\n",
    "nitrogen_df = nitrogen_df.reset_index()\n",
    "\n",
    "nitrogen_df = nitrogen_df.set_index(\"Tributary Basin\")\n",
    "nitrogen_df.drop(['Patuxent', 'Choptank', 'Patapsco/Back'],axis=0,inplace=True)\n",
    "nitrogen_df = nitrogen_df.reset_index()"
   ]
  },
  {
   "cell_type": "code",
   "execution_count": null,
   "id": "09aa9d26-6e7c-45d0-ad6d-3cff1875b4cf",
   "metadata": {},
   "outputs": [],
   "source": []
  },
  {
   "cell_type": "markdown",
   "id": "ed398eb9-ddcc-4c29-865d-240355c7a909",
   "metadata": {},
   "source": [
    "Ignore results for 2017 and 2025 because those were predictions that the reseachers made. The only measured values are 2007-2016"
   ]
  },
  {
   "cell_type": "code",
   "execution_count": 5,
   "id": "0f5d56cb-6c8d-4e3c-989e-3b7c40b45d6a",
   "metadata": {},
   "outputs": [
    {
     "data": {
      "text/plain": [
       "<matplotlib.collections.PathCollection at 0x7ff0cfd18b50>"
      ]
     },
     "execution_count": 5,
     "metadata": {},
     "output_type": "execute_result"
    },
    {
     "data": {
      "image/png": "[encoded data removed]",
      "text/plain": [
       "<Figure size 864x864 with 1 Axes>"
      ]
     },
     "metadata": {
      "needs_background": "light"
     },
     "output_type": "display_data"
    },
    {
     "data": {
      "image/png": "[encoded data removed]",
      "text/plain": [
       "<Figure size 864x864 with 1 Axes>"
      ]
     },
     "metadata": {
      "needs_background": "light"
     },
     "output_type": "display_data"
    }
   ],
   "source": [
    "fig = plt.figure(figsize = (12, 12))\n",
    "eastern_shore = nitrogen_df[nitrogen_df['Major Basin'] == 'Eastern Shore of Chesapeake Bay']\n",
    "western_shore = nitrogen_df[nitrogen_df['Major Basin'] == 'Western Shore of Chesapeake Bay']\n",
    "plt.scatter(eastern_shore['Year'], eastern_shore['Total lbs.'], c = \"green\")\n",
    "fig = plt.figure(figsize = (12, 12))\n",
    "plt.scatter(western_shore['Year'], western_shore['Total lbs.'], c = \"red\")"
   ]
  },
  {
   "cell_type": "code",
   "execution_count": 6,
   "id": "a61cde3c-0cfa-416e-95ee-d7ecdd0c7e26",
   "metadata": {},
   "outputs": [
    {
     "data": {
      "text/plain": [
       "Text(0.5, 1.0, 'Western Shore Total Pounds of Nitrogen per Year')"
      ]
     },
     "execution_count": 6,
     "metadata": {},
     "output_type": "execute_result"
    },
    {
     "data": {
      "image/png": "[encoded data removed]",
      "text/plain": [
       "<Figure size 432x288 with 1 Axes>"
      ]
     },
     "metadata": {
      "needs_background": "light"
     },
     "output_type": "display_data"
    }
   ],
   "source": [
    "sns.stripplot(data = eastern_shore, x = eastern_shore['Year'], y = eastern_shore['Total lbs.'])\n",
    "plt.title(\"Eastern Shore Total Pounds of Nitrogen per Year\")\n",
    "\n",
    "sns.stripplot(data = western_shore, x = western_shore['Year'], y = western_shore['Total lbs.'])\n",
    "plt.title(\"Western Shore Total Pounds of Nitrogen per Year\")"
   ]
  },
  {
   "cell_type": "code",
   "execution_count": 7,
   "id": "d24921c3-cf1f-4922-84e9-e7d3b1a9377f",
   "metadata": {},
   "outputs": [
    {
     "data": {
      "text/plain": [
       "Text(0.5, 1.0, 'Average yearly Nitrogen pollution 2007-2016')"
      ]
     },
     "execution_count": 7,
     "metadata": {},
     "output_type": "execute_result"
    },
    {
     "data": {
      "image/png": "[encoded data removed]",
      "text/plain": [
       "<Figure size 432x288 with 1 Axes>"
      ]
     },
     "metadata": {
      "needs_background": "light"
     },
     "output_type": "display_data"
    }
   ],
   "source": [
    "import seaborn as sns\n",
    "\n",
    "eastern_shore_ave = eastern_shore.groupby('Year').mean().reset_index()\n",
    "western_shore_ave = western_shore.groupby('Year').mean().reset_index()\n",
    "\n",
    "X = eastern_shore_ave.Year[1:-2].astype(int)\n",
    "y = eastern_shore_ave[\"Total lbs.\"][1:-2]\n",
    "ax = sns.regplot(data=nitrogen_df,x=X, y=y, color = \"green\")\n",
    "\n",
    "X = western_shore_ave.Year[1:-2].astype(int)\n",
    "y = western_shore_ave[\"Total lbs.\"][1:-2]\n",
    "sns.regplot(ax= ax, x=X, y=y, color = \"red\")\n",
    "\n",
    "ax.set_title(\"Average yearly Nitrogen pollution 2007-2016\")\n",
    "\n",
    "#GREEN IS THE EASTERN BAY\n",
    "#RED IS THE WESTERN BAY"
   ]
  },
  {
   "cell_type": "code",
   "execution_count": 8,
   "id": "743c7571-0ff2-4899-8f81-a3eaa5d6e921",
   "metadata": {},
   "outputs": [],
   "source": [
    "phosphorus_df = pd.read_csv('Phosphorus_loads.csv')\n",
    "phosphorus_df = phosphorus_df.drop(['Land-River Segment', 'FIPS'], axis=1)"
   ]
  },
  {
   "cell_type": "code",
   "execution_count": 9,
   "id": "2dcd311e-d692-4f4a-9e75-95a413908d89",
   "metadata": {},
   "outputs": [],
   "source": [
    "temp_dict = {}\n",
    "#changes Total P, #### (lb.) -> ####\n",
    "for column in phosphorus_df.columns[4:]:\n",
    "    temp_dict[column] = re.findall(\"\\d{4}\", column)[0]\n",
    "\n",
    "\n",
    "phosphorus_df = phosphorus_df.rename(columns=temp_dict)\n",
    "phosphorus_df = pd.melt(phosphorus_df,id_vars=['County','Tributary Basin','Major Basin','Source Sector'], var_name='Year', value_name='Total lbs.')"
   ]
  },
  {
   "cell_type": "code",
   "execution_count": 10,
   "id": "fc802419-2181-4993-9b90-fad439fea554",
   "metadata": {},
   "outputs": [
    {
     "data": {
      "text/plain": [
       "<AxesSubplot:xlabel='Year', ylabel='Total lbs.'>"
      ]
     },
     "execution_count": 10,
     "metadata": {},
     "output_type": "execute_result"
    },
    {
     "data": {
      "image/png": "[encoded data removed]",
      "text/plain": [
       "<Figure size 432x288 with 1 Axes>"
      ]
     },
     "metadata": {
      "needs_background": "light"
     },
     "output_type": "display_data"
    }
   ],
   "source": [
    "# phosphorus_df.plot.scatter(x='Year',y='Total lbs.', c='DarkBlue')\n",
    "phosphorus_df[phosphorus_df['Major Basin'] == \"Eastern Shore of Chesapeake Bay\"].plot.scatter(x='Year',y='Total lbs.')"
   ]
  },
  {
   "cell_type": "code",
   "execution_count": 11,
   "id": "7107eb77-ecdc-4e55-9d00-832f389f3667",
   "metadata": {},
   "outputs": [
    {
     "data": {
      "text/html": [
       "<div>\n",
       "<style scoped>\n",
       "    .dataframe tbody tr th:only-of-type {\n",
       "        vertical-align: middle;\n",
       "    }\n",
       "\n",
       "    .dataframe tbody tr th {\n",
       "        vertical-align: top;\n",
       "    }\n",
       "\n",
       "    .dataframe thead th {\n",
       "        text-align: right;\n",
       "    }\n",
       "</style>\n",
       "<table border=\"1\" class=\"dataframe\">\n",
       "  <thead>\n",
       "    <tr style=\"text-align: right;\">\n",
       "      <th></th>\n",
       "      <th>Source</th>\n",
       "      <th>SampleType</th>\n",
       "      <th>Station</th>\n",
       "      <th>SampleDate</th>\n",
       "      <th>Layer</th>\n",
       "      <th>SampleNumber</th>\n",
       "      <th>GMethod</th>\n",
       "      <th>TSN</th>\n",
       "      <th>LatinName</th>\n",
       "      <th>Size</th>\n",
       "      <th>Method</th>\n",
       "      <th>Parameter</th>\n",
       "      <th>ReportingValue</th>\n",
       "      <th>ReportingUnit</th>\n",
       "      <th>NODCCode</th>\n",
       "      <th>SPECCode</th>\n",
       "    </tr>\n",
       "  </thead>\n",
       "  <tbody>\n",
       "    <tr>\n",
       "      <th>0</th>\n",
       "      <td>MSU/PEARL</td>\n",
       "      <td>C</td>\n",
       "      <td>LE1.1</td>\n",
       "      <td>1/10/2000</td>\n",
       "      <td>AP</td>\n",
       "      <td>FS5</td>\n",
       "      <td>7</td>\n",
       "      <td>1455</td>\n",
       "      <td>Ochromonas</td>\n",
       "      <td>Not Applicable</td>\n",
       "      <td>PH101</td>\n",
       "      <td>COUNT</td>\n",
       "      <td>1399780.0</td>\n",
       "      <td>L</td>\n",
       "      <td>4020103</td>\n",
       "      <td>625</td>\n",
       "    </tr>\n",
       "    <tr>\n",
       "      <th>1</th>\n",
       "      <td>MSU/PEARL</td>\n",
       "      <td>C</td>\n",
       "      <td>LE1.1</td>\n",
       "      <td>1/10/2000</td>\n",
       "      <td>AP</td>\n",
       "      <td>FS5</td>\n",
       "      <td>7</td>\n",
       "      <td>1791</td>\n",
       "      <td>Apedinella radians</td>\n",
       "      <td>Not Applicable</td>\n",
       "      <td>PH101</td>\n",
       "      <td>COUNT</td>\n",
       "      <td>82340.0</td>\n",
       "      <td>L</td>\n",
       "      <td>405040301</td>\n",
       "      <td>879</td>\n",
       "    </tr>\n",
       "    <tr>\n",
       "      <th>2</th>\n",
       "      <td>MSU/PEARL</td>\n",
       "      <td>C</td>\n",
       "      <td>LE1.1</td>\n",
       "      <td>1/10/2000</td>\n",
       "      <td>AP</td>\n",
       "      <td>FS5</td>\n",
       "      <td>7</td>\n",
       "      <td>2160</td>\n",
       "      <td>Chrysochromulina</td>\n",
       "      <td>Not Applicable</td>\n",
       "      <td>PH101</td>\n",
       "      <td>COUNT</td>\n",
       "      <td>82340.0</td>\n",
       "      <td>L</td>\n",
       "      <td>6030101</td>\n",
       "      <td>603</td>\n",
       "    </tr>\n",
       "    <tr>\n",
       "      <th>3</th>\n",
       "      <td>MSU/PEARL</td>\n",
       "      <td>C</td>\n",
       "      <td>LE1.1</td>\n",
       "      <td>1/10/2000</td>\n",
       "      <td>AP</td>\n",
       "      <td>FS5</td>\n",
       "      <td>7</td>\n",
       "      <td>2288</td>\n",
       "      <td>Centrales</td>\n",
       "      <td>&lt;10 Microns</td>\n",
       "      <td>PH101</td>\n",
       "      <td>COUNT</td>\n",
       "      <td>823400.0</td>\n",
       "      <td>L</td>\n",
       "      <td>702</td>\n",
       "      <td>174</td>\n",
       "    </tr>\n",
       "    <tr>\n",
       "      <th>4</th>\n",
       "      <td>MSU/PEARL</td>\n",
       "      <td>C</td>\n",
       "      <td>LE1.1</td>\n",
       "      <td>1/10/2000</td>\n",
       "      <td>AP</td>\n",
       "      <td>FS5</td>\n",
       "      <td>7</td>\n",
       "      <td>2402</td>\n",
       "      <td>Skeletonema costatum</td>\n",
       "      <td>Not Applicable</td>\n",
       "      <td>PH101</td>\n",
       "      <td>COUNT</td>\n",
       "      <td>15068220.0</td>\n",
       "      <td>L</td>\n",
       "      <td>702020101</td>\n",
       "      <td>136</td>\n",
       "    </tr>\n",
       "  </tbody>\n",
       "</table>\n",
       "</div>"
      ],
      "text/plain": [
       "      Source SampleType Station SampleDate Layer SampleNumber  GMethod   TSN  \\\n",
       "0  MSU/PEARL          C   LE1.1  1/10/2000    AP          FS5        7  1455   \n",
       "1  MSU/PEARL          C   LE1.1  1/10/2000    AP          FS5        7  1791   \n",
       "2  MSU/PEARL          C   LE1.1  1/10/2000    AP          FS5        7  2160   \n",
       "3  MSU/PEARL          C   LE1.1  1/10/2000    AP          FS5        7  2288   \n",
       "4  MSU/PEARL          C   LE1.1  1/10/2000    AP          FS5        7  2402   \n",
       "\n",
       "              LatinName            Size Method Parameter  ReportingValue  \\\n",
       "0            Ochromonas  Not Applicable  PH101     COUNT       1399780.0   \n",
       "1    Apedinella radians  Not Applicable  PH101     COUNT         82340.0   \n",
       "2      Chrysochromulina  Not Applicable  PH101     COUNT         82340.0   \n",
       "3             Centrales     <10 Microns  PH101     COUNT        823400.0   \n",
       "4  Skeletonema costatum  Not Applicable  PH101     COUNT      15068220.0   \n",
       "\n",
       "  ReportingUnit   NODCCode  SPECCode  \n",
       "0             L    4020103       625  \n",
       "1             L  405040301       879  \n",
       "2             L    6030101       603  \n",
       "3             L        702       174  \n",
       "4             L  702020101       136  "
      ]
     },
     "execution_count": 11,
     "metadata": {},
     "output_type": "execute_result"
    }
   ],
   "source": [
    "algae_df = pd.read_csv('LivingResourcesReportedStation.csv', low_memory =False, parse_dates=True)\n",
    "algae_df.head()"
   ]
  },
  {
   "cell_type": "code",
   "execution_count": null,
   "id": "7b2304be-ba47-4cf8-aab6-261975a6bb6b",
   "metadata": {},
   "outputs": [],
   "source": []
  },
  {
   "cell_type": "code",
   "execution_count": 12,
   "id": "188741cb-dacc-46af-a71d-6982d93fc2f0",
   "metadata": {},
   "outputs": [
    {
     "ename": "SyntaxError",
     "evalue": "EOL while scanning string literal (<ipython-input-12-77f7a55bec7e>, line 8)",
     "output_type": "error",
     "traceback": [
      "\u001b[0;36m  File \u001b[0;32m\"<ipython-input-12-77f7a55bec7e>\"\u001b[0;36m, line \u001b[0;32m8\u001b[0m\n\u001b[0;31m    prorocentrum_minimum['Year'] = prorocentrum_minimum['Year'].astype(int)'\u001b[0m\n\u001b[0m                                                                            ^\u001b[0m\n\u001b[0;31mSyntaxError\u001b[0m\u001b[0;31m:\u001b[0m EOL while scanning string literal\n"
     ]
    }
   ],
   "source": [
    "prorocentrum_minimum = algae_df[algae_df['LatinName'] == 'Prorocentrum minimum'].copy(deep=True).reset_index()\n",
    "prorocentrum_minimum = prorocentrum_minimum.rename(columns={\"ReportingValue\": \"ReportingValue(L)\"})\n",
    "prorocentrum_minimum = prorocentrum_minimum.drop(['ReportingUnit','Parameter'], axis=1)\n",
    "year = []\n",
    "for date in prorocentrum_minimum.SampleDate:\n",
    "    year.append(date[-4:])\n",
    "prorocentrum_minimum['Year'] = year\n",
    "prorocentrum_minimum['Year'] = prorocentrum_minimum['Year'].astype(int)'"
   ]
  },
  {
   "cell_type": "code",
   "execution_count": null,
   "id": "8861a522-fca7-4beb-8e47-9f1b4159c7e4",
   "metadata": {
    "tags": []
   },
   "outputs": [],
   "source": [
    "prorocentrum_minimum.plot.scatter(x='Year',y='ReportingValue(L)', c='DarkBlue')"
   ]
  },
  {
   "cell_type": "code",
   "execution_count": null,
   "id": "5039579a-b889-48a9-885b-a16fca00b267",
   "metadata": {},
   "outputs": [],
   "source": [
    "prorocentrum_minimum = prorocentrum_minimum.groupby('Year').mean().reset_index()\n",
    "ax = sns.regplot(data = prorocentrum_minimum, order=4, x='Year', y='ReportingValue(L)')\n",
    "ax.set_title(\"Annual Average of Prorocentrum Minimum\")\n",
    "\n",
    "# prorocentrum_minimum.plot.scatter(x='Year',y='ReportingValue(L)', title = \"Yearly averages for Prorocentrum Minimum\")"
   ]
  },
  {
   "cell_type": "markdown",
   "id": "3c0ec7b5-ceff-42db-ab69-32a1ad209e61",
   "metadata": {},
   "source": [
    "https://www.cbf.org/how-we-save-the-bay/chesapeake-clean-water-blueprint/the-history-of-bay-cleanup-efforts.html\n",
    "This link may explain why there is a general decrease in prorocentrum minimum over the years"
   ]
  },
  {
   "cell_type": "code",
   "execution_count": null,
   "id": "according-exemption",
   "metadata": {},
   "outputs": [],
   "source": [
    "prorocentrum_micans = algae_df[algae_df['LatinName'] == 'Prorocentrum micans'].copy(deep=True).reset_index()\n",
    "prorocentrum_gracile = algae_df[algae_df['LatinName'] == 'Prorocentrum gracile'].copy(deep=True).reset_index()\n",
    "\n",
    "year = []\n",
    "for date in prorocentrum_minimum.SampleDate:\n",
    "    year.append(date[-2:])\n",
    "prorocentrum_minimum['Year'] = year\n",
    "year = []\n",
    "for date in prorocentrum_micans.SampleDate:\n",
    "    year.append(date[-2:])\n",
    "prorocentrum_micans['Year'] = year\n",
    "prorocentrum = pd.concat([prorocentrum_minimum,prorocentrum_micans])\n",
    "year = []\n",
    "for date in prorocentrum_gracile.SampleDate:\n",
    "    year.append(date[-2:])\n",
    "prorocentrum_gracile['Year'] = year\n",
    "prorocentrum = pd.concat([prorocentrum,prorocentrum_gracile])\n",
    "prorocentrum"
   ]
  },
  {
   "cell_type": "code",
   "execution_count": null,
   "id": "83d0530b-4577-4b41-a71a-c611875d4ef6",
   "metadata": {},
   "outputs": [],
   "source": [
    "blue_green_sphere = algae_df[algae_df['LatinName'] == 'Blue green sphere'].copy(deep=True).reset_index()\n",
    "blue_green_sphere = blue_green_sphere.rename(columns={\"ReportingValue\": \"ReportingValue(L)\"})\n",
    "blue_green_sphere = blue_green_sphere.drop(['ReportingUnit','Parameter'], axis=1)\n",
    "year = []\n",
    "for date in blue_green_sphere.SampleDate:\n",
    "    year.append(date[-4:])\n",
    "blue_green_sphere['Year'] = year\n",
    "blue_green_sphere['Year'] = blue_green_sphere['Year'].astype(int)"
   ]
  },
  {
   "cell_type": "code",
   "execution_count": null,
   "id": "aa5e9ef3-9e3b-4d72-9a70-d48af94795c7",
   "metadata": {},
   "outputs": [],
   "source": [
    "blue_green_sphere.plot.scatter(x='Year',y='ReportingValue(L)')"
   ]
  },
  {
   "cell_type": "code",
   "execution_count": null,
   "id": "9b9a5117-be28-4cc7-89cb-6d9ed950346f",
   "metadata": {},
   "outputs": [],
   "source": [
    "blue_green_sphere = blue_green_sphere.groupby('Year').mean().reset_index()\n",
    "ax = sns.regplot(data = blue_green_sphere, order=4, x='Year', y='ReportingValue(L)')\n",
    "ax.set_title(\"Annual Average of Cyanobacteria\")"
   ]
  },
  {
   "cell_type": "code",
   "execution_count": 13,
   "id": "57facf91-3cca-4847-b666-b5c4c550d714",
   "metadata": {},
   "outputs": [],
   "source": [
    "# oxygen_levels = pd.read_csv('AN_OCEAN_2016-2018.csv')\n",
    "# oxygen_levels.plot.scatter(x='Year',y='Oxygen (millilitres O2 per liter)', c='DarkBlue')"
   ]
  },
  {
   "cell_type": "code",
   "execution_count": 14,
   "id": "b851664d-e2d9-476e-8bbd-6871a72a8c1d",
   "metadata": {},
   "outputs": [],
   "source": [
    "activites_df = pd.read_csv('Reduction_Activities.csv')\n",
    "activites_df[\"Fiscal Year\"] = list(range(2000,2015))"
   ]
  },
  {
   "cell_type": "code",
   "execution_count": 15,
   "id": "6cd08e4b-e24b-47c2-a747-25f772725a9f",
   "metadata": {},
   "outputs": [],
   "source": [
    "activites_df[\"Stormwater_CS\"] = (activites_df['Agricultural Stream Protection (Acres)'].cumsum())"
   ]
  },
  {
   "cell_type": "code",
   "execution_count": 16,
   "id": "3490b489-1237-44dd-8922-a5684cc886b6",
   "metadata": {},
   "outputs": [
    {
     "data": {
      "text/plain": [
       "<AxesSubplot:xlabel='Fiscal Year', ylabel='Agricultural Stream Protection (Acres)'>"
      ]
     },
     "execution_count": 16,
     "metadata": {},
     "output_type": "execute_result"
    },
    {
     "data": {
      "image/png": "[encoded data removed]",
      "text/plain": [
       "<Figure size 432x288 with 1 Axes>"
      ]
     },
     "metadata": {
      "needs_background": "light"
     },
     "output_type": "display_data"
    }
   ],
   "source": [
    "activites_df.plot.scatter(x = \"Fiscal Year\", y = \"Agricultural Stream Protection (Acres)\" )"
   ]
  },
  {
   "cell_type": "code",
   "execution_count": 81,
   "id": "3a1375f0-1fd3-43ca-9d90-8431b10b20b0",
   "metadata": {},
   "outputs": [],
   "source": []
  },
  {
   "cell_type": "code",
   "execution_count": 62,
   "id": "b097df6a-9ec3-46ce-be21-b1108057539f",
   "metadata": {},
   "outputs": [],
   "source": []
  },
  {
   "cell_type": "code",
   "execution_count": null,
   "id": "ae8bee4d-192e-418a-a206-7930e0c802ea",
   "metadata": {},
   "outputs": [],
   "source": []
  },
  {
   "cell_type": "code",
   "execution_count": null,
   "id": "7914c09e-d630-4114-a9c3-50c102f5b4eb",
   "metadata": {},
   "outputs": [],
   "source": []
  },
  {
   "cell_type": "code",
   "execution_count": null,
   "id": "57a5ecf5-9d0a-4516-a834-0a0241bd0245",
   "metadata": {},
   "outputs": [],
   "source": []
  },
  {
   "cell_type": "code",
   "execution_count": null,
   "id": "11c2a944-68ca-45b8-9988-61ef0e98cce3",
   "metadata": {},
   "outputs": [],
   "source": []
  }
 ],
 "metadata": {
  "kernelspec": {
   "display_name": "Python 3",
   "language": "python",
   "name": "python3"
  },
  "language_info": {
   "codemirror_mode": {
    "name": "ipython",
    "version": 3
   },
   "file_extension": ".py",
   "mimetype": "text/x-python",
   "name": "python",
   "nbconvert_exporter": "python",
   "pygments_lexer": "ipython3",
   "version": "3.8.6"
  }
 },
 "nbformat": 4,
 "nbformat_minor": 5
}
